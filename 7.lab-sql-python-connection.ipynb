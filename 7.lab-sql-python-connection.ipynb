{
 "cells": [
  {
   "cell_type": "code",
   "execution_count": 5,
   "id": "6e0ba58a",
   "metadata": {},
   "outputs": [],
   "source": [
    "#Establish a Connection between Python and the Sakila Database\n",
    "#pip install sqlalchemy pymysql pandas"
   ]
  },
  {
   "cell_type": "code",
   "execution_count": 6,
   "id": "b2dcf7be",
   "metadata": {},
   "outputs": [],
   "source": [
    "#Write the rentals_month Function\n",
    "import pandas as pd\n",
    "from sqlalchemy import create_engine\n",
    "\n",
    "def rentals_month(engine, month, year):\n",
    "    query = f\"\"\"\n",
    "    SELECT *\n",
    "    FROM rental\n",
    "    WHERE MONTH(rental_date) = {month} AND YEAR(rental_date) = {year};\n",
    "    \"\"\"\n",
    "    return pd.read_sql(query, engine)\n"
   ]
  },
  {
   "cell_type": "code",
   "execution_count": 7,
   "id": "624d34a4",
   "metadata": {},
   "outputs": [],
   "source": [
    "#Develop the rental_count_month Function\n",
    "def rental_count_month(df, month, year):\n",
    "    rental_count = df.groupby('customer_id').size().reset_index(name=f'rentals_{month:02}_{year}')\n",
    "    return rental_count\n"
   ]
  },
  {
   "cell_type": "code",
   "execution_count": 8,
   "id": "19cc58fd",
   "metadata": {},
   "outputs": [],
   "source": [
    "#Create the compare_rentals Function\n",
    "def compare_rentals(df1, df2, month1, year1, month2, year2):\n",
    "    merged_df = pd.merge(df1, df2, on='customer_id', how='outer', suffixes=(f'_{month1:02}_{year1}', f'_{month2:02}_{year2}')).fillna(0)\n",
    "    merged_df['difference'] = merged_df[f'rentals_{month2:02}_{year2}'] - merged_df[f'rentals_{month1:02}_{year1}']\n",
    "    return merged_df\n"
   ]
  },
  {
   "cell_type": "code",
   "execution_count": null,
   "id": "bde72136",
   "metadata": {},
   "outputs": [],
   "source": []
  }
 ],
 "metadata": {
  "colab": {
   "provenance": []
  },
  "kernelspec": {
   "display_name": "Python 3 (ipykernel)",
   "language": "python",
   "name": "python3"
  },
  "language_info": {
   "codemirror_mode": {
    "name": "ipython",
    "version": 3
   },
   "file_extension": ".py",
   "mimetype": "text/x-python",
   "name": "python",
   "nbconvert_exporter": "python",
   "pygments_lexer": "ipython3",
   "version": "3.12.3"
  }
 },
 "nbformat": 4,
 "nbformat_minor": 5
}
